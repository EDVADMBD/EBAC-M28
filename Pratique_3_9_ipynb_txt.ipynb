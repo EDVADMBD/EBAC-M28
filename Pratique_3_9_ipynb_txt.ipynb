{
  "nbformat": 4,
  "nbformat_minor": 0,
  "metadata": {
    "colab": {
      "provenance": []
    },
    "kernelspec": {
      "name": "python3",
      "display_name": "Python 3"
    },
    "language_info": {
      "name": "python"
    }
  },
  "cells": [
    {
      "cell_type": "markdown",
      "source": [
        "1º Exercício: Estrutura condicional para / em\n",
        "\n",
        "Parte 1\n",
        "\n",
        "Imprima os seguintes valores da lista: tempo_gasto_site e idade"
      ],
      "metadata": {
        "id": "5F-DBzZKb72Z"
      }
    },
    {
      "cell_type": "code",
      "source": [
        "propaganda_online = [\n",
        "  {'tempo_gasto_site': 68.95, 'idade': 35, 'renda_area': 61833.90, 'tempo_gasto_internet': 256.09, 'cidade': 'Wrightburgh', 'pais': 'Tunisia', 'clicou_no_ad': 1},\n",
        "  {'tempo_gasto_site': 80.23, 'idade': 31, 'renda_area': 68441.85, 'tempo_gasto_internet': 193.77, 'cidade': 'West Jodi', 'pais': 'Nauru', 'clicou_no_ad': 0},\n",
        "  {'tempo_gasto_site': 69.47, 'idade': 26, 'renda_area': 59785.94, 'tempo_gasto_internet': 236.50, 'cidade': 'Davidton', 'pais': 'San Marino', 'clicou_no_ad': 1},\n",
        "  {'tempo_gasto_site': 68.37, 'idade': 35, 'renda_area': 73889.99, 'tempo_gasto_internet': 225.58, 'cidade': 'South Manuel', 'pais': 'Iceland', 'clicou_no_ad': 0},\n",
        "  {'tempo_gasto_site': 88.91, 'idade': 33, 'renda_area': 53852.85, 'tempo_gasto_internet': 208.36, 'cidade': 'Brandonstad', 'pais': 'Myanmar', 'clicou_no_ad': 0},\n",
        "  {'tempo_gasto_site': None, 'idade': 48, 'renda_area': 24593.33, 'tempo_gasto_internet': 131.76, 'cidade': 'Port Jefferybury', 'pais': 'Australia', 'clicou_no_ad': 1},\n",
        "  {'tempo_gasto_site': 74.53, 'idade': 30, 'renda_area': 68862.00, 'tempo_gasto_internet': 221.51, 'cidade': 'West Colin', 'pais': 'Grenada', 'clicou_no_ad': 0},\n",
        "  {'tempo_gasto_site': 69.88, 'idade': 20, 'renda_area': 55642.32, 'tempo_gasto_internet': 183.82, 'cidade': 'Ramirezton', 'pais': 'Ghana', 'clicou_no_ad': 0}\n",
        "]"
      ],
      "metadata": {
        "id": "W923_-b-b9PJ"
      },
      "execution_count": 1,
      "outputs": []
    },
    {
      "cell_type": "code",
      "source": [
        "for dado_de_usuario in propaganda_online:\n",
        "  print(dado_de_usuario)"
      ],
      "metadata": {
        "id": "0wX_BQ1EcrWv",
        "colab": {
          "base_uri": "https://localhost:8080/"
        },
        "outputId": "cc911712-2c68-4aed-fbbe-5813fdf9318e"
      },
      "execution_count": 2,
      "outputs": [
        {
          "output_type": "stream",
          "name": "stdout",
          "text": [
            "{'tempo_gasto_site': 68.95, 'idade': 35, 'renda_area': 61833.9, 'tempo_gasto_internet': 256.09, 'cidade': 'Wrightburgh', 'pais': 'Tunisia', 'clicou_no_ad': 1}\n",
            "{'tempo_gasto_site': 80.23, 'idade': 31, 'renda_area': 68441.85, 'tempo_gasto_internet': 193.77, 'cidade': 'West Jodi', 'pais': 'Nauru', 'clicou_no_ad': 0}\n",
            "{'tempo_gasto_site': 69.47, 'idade': 26, 'renda_area': 59785.94, 'tempo_gasto_internet': 236.5, 'cidade': 'Davidton', 'pais': 'San Marino', 'clicou_no_ad': 1}\n",
            "{'tempo_gasto_site': 68.37, 'idade': 35, 'renda_area': 73889.99, 'tempo_gasto_internet': 225.58, 'cidade': 'South Manuel', 'pais': 'Iceland', 'clicou_no_ad': 0}\n",
            "{'tempo_gasto_site': 88.91, 'idade': 33, 'renda_area': 53852.85, 'tempo_gasto_internet': 208.36, 'cidade': 'Brandonstad', 'pais': 'Myanmar', 'clicou_no_ad': 0}\n",
            "{'tempo_gasto_site': None, 'idade': 48, 'renda_area': 24593.33, 'tempo_gasto_internet': 131.76, 'cidade': 'Port Jefferybury', 'pais': 'Australia', 'clicou_no_ad': 1}\n",
            "{'tempo_gasto_site': 74.53, 'idade': 30, 'renda_area': 68862.0, 'tempo_gasto_internet': 221.51, 'cidade': 'West Colin', 'pais': 'Grenada', 'clicou_no_ad': 0}\n",
            "{'tempo_gasto_site': 69.88, 'idade': 20, 'renda_area': 55642.32, 'tempo_gasto_internet': 183.82, 'cidade': 'Ramirezton', 'pais': 'Ghana', 'clicou_no_ad': 0}\n"
          ]
        }
      ]
    },
    {
      "cell_type": "markdown",
      "source": [
        "Parte 2\n",
        "\n",
        "Extraia os valores da chave tempo_gasto_site\n",
        "\n",
        "para dado_de_usuario em propaganda_online:"
      ],
      "metadata": {
        "id": "vpE3ZJaVc5Xu"
      }
    },
    {
      "cell_type": "code",
      "source": [
        "for dados_de_Propaganda in propaganda_online:\n",
        "  print(f\"tempo gasto....  {dados_de_Propaganda['tempo_gasto_site']} \")"
      ],
      "metadata": {
        "id": "FxuCTfhMc6pI",
        "colab": {
          "base_uri": "https://localhost:8080/"
        },
        "outputId": "72eed354-13b9-4939-fa31-5f79832b00dd"
      },
      "execution_count": 3,
      "outputs": [
        {
          "output_type": "stream",
          "name": "stdout",
          "text": [
            "tempo gasto....  68.95 \n",
            "tempo gasto....  80.23 \n",
            "tempo gasto....  69.47 \n",
            "tempo gasto....  68.37 \n",
            "tempo gasto....  88.91 \n",
            "tempo gasto....  None \n",
            "tempo gasto....  74.53 \n",
            "tempo gasto....  69.88 \n"
          ]
        }
      ]
    },
    {
      "cell_type": "code",
      "source": [
        "for dado_de_usuario in propaganda_online:\n",
        "    print(dado_de_usuario['renda_area'])\n"
      ],
      "metadata": {
        "id": "j1gElStxgWWb",
        "colab": {
          "base_uri": "https://localhost:8080/"
        },
        "outputId": "c1889c35-3241-420d-80d7-1bb5ed3927c2"
      },
      "execution_count": 4,
      "outputs": [
        {
          "output_type": "stream",
          "name": "stdout",
          "text": [
            "61833.9\n",
            "68441.85\n",
            "59785.94\n",
            "73889.99\n",
            "53852.85\n",
            "24593.33\n",
            "68862.0\n",
            "55642.32\n"
          ]
        }
      ]
    },
    {
      "cell_type": "code",
      "source": [
        "for dados_de_Propaganda in propaganda_online:\n",
        "    print(f\"O tempo gasto no site e '{dados_de_Propaganda['tempo_gasto_site']}', E a idade é '{dados_de_Propaganda}\")"
      ],
      "metadata": {
        "id": "yl8EjU_-hkhE",
        "colab": {
          "base_uri": "https://localhost:8080/"
        },
        "outputId": "2a1ae64f-24f7-4ea4-ac99-6fe6e0b8c268"
      },
      "execution_count": 5,
      "outputs": [
        {
          "output_type": "stream",
          "name": "stdout",
          "text": [
            "O tempo gasto no site e '68.95', E a idade é '{'tempo_gasto_site': 68.95, 'idade': 35, 'renda_area': 61833.9, 'tempo_gasto_internet': 256.09, 'cidade': 'Wrightburgh', 'pais': 'Tunisia', 'clicou_no_ad': 1}\n",
            "O tempo gasto no site e '80.23', E a idade é '{'tempo_gasto_site': 80.23, 'idade': 31, 'renda_area': 68441.85, 'tempo_gasto_internet': 193.77, 'cidade': 'West Jodi', 'pais': 'Nauru', 'clicou_no_ad': 0}\n",
            "O tempo gasto no site e '69.47', E a idade é '{'tempo_gasto_site': 69.47, 'idade': 26, 'renda_area': 59785.94, 'tempo_gasto_internet': 236.5, 'cidade': 'Davidton', 'pais': 'San Marino', 'clicou_no_ad': 1}\n",
            "O tempo gasto no site e '68.37', E a idade é '{'tempo_gasto_site': 68.37, 'idade': 35, 'renda_area': 73889.99, 'tempo_gasto_internet': 225.58, 'cidade': 'South Manuel', 'pais': 'Iceland', 'clicou_no_ad': 0}\n",
            "O tempo gasto no site e '88.91', E a idade é '{'tempo_gasto_site': 88.91, 'idade': 33, 'renda_area': 53852.85, 'tempo_gasto_internet': 208.36, 'cidade': 'Brandonstad', 'pais': 'Myanmar', 'clicou_no_ad': 0}\n",
            "O tempo gasto no site e 'None', E a idade é '{'tempo_gasto_site': None, 'idade': 48, 'renda_area': 24593.33, 'tempo_gasto_internet': 131.76, 'cidade': 'Port Jefferybury', 'pais': 'Australia', 'clicou_no_ad': 1}\n",
            "O tempo gasto no site e '74.53', E a idade é '{'tempo_gasto_site': 74.53, 'idade': 30, 'renda_area': 68862.0, 'tempo_gasto_internet': 221.51, 'cidade': 'West Colin', 'pais': 'Grenada', 'clicou_no_ad': 0}\n",
            "O tempo gasto no site e '69.88', E a idade é '{'tempo_gasto_site': 69.88, 'idade': 20, 'renda_area': 55642.32, 'tempo_gasto_internet': 183.82, 'cidade': 'Ramirezton', 'pais': 'Ghana', 'clicou_no_ad': 0}\n"
          ]
        }
      ]
    },
    {
      "cell_type": "markdown",
      "source": [
        "Parte 3\n",
        "\n",
        "Extraia os valores da chave idade\n",
        "\n",
        "para dado_de_usuario em propaganda_online:"
      ],
      "metadata": {
        "id": "hsgEfMj-iO98"
      }
    },
    {
      "cell_type": "code",
      "source": [
        "for dado_de_usuario in propaganda_online:\n",
        "    print(dado_de_usuario['idade'])"
      ],
      "metadata": {
        "id": "ucbD9R5MiRQy",
        "colab": {
          "base_uri": "https://localhost:8080/"
        },
        "outputId": "87f0b2b7-9b13-421d-da18-cb604884400d"
      },
      "execution_count": 6,
      "outputs": [
        {
          "output_type": "stream",
          "name": "stdout",
          "text": [
            "35\n",
            "31\n",
            "26\n",
            "35\n",
            "33\n",
            "48\n",
            "30\n",
            "20\n"
          ]
        }
      ]
    },
    {
      "cell_type": "markdown",
      "source": [
        "\n",
        "2º Exercício: Estrutura condicional if / else\n",
        "\n",
        "Utilize uma estrutura if/else para imprimir a cidade dos usuários que gastaram mais de 100 horas de tempo na internet.\n",
        "\n",
        "Dica : Após a iteração dos elementos da lista (através da estrutura condicional FOR), utilize uma estrutura if/else para criar a condição dos valores da chave\n",
        "\n",
        "tempo_gasto_internet\n",
        "\n",
        "para dado_de_usuario em propaganda_online:\n",
        "\n"
      ],
      "metadata": {
        "id": "7bGA1BWfkNfR"
      }
    },
    {
      "cell_type": "code",
      "source": [
        "for dado_de_usuario in propaganda_online:\n",
        "  try:\n",
        "    if dado_de_usuario['tempo_gasto_internet']  >= 100 :\n",
        "        print(dado_de_usuario['cidade'])\n",
        "\n",
        "    else:\n",
        "        print('não deu certo')\n",
        "\n",
        "  except TypeError:\n",
        "        print(f'{dado_de_usuario[\"cidade\"]} - O valor None não poder calculado porem a cidade é \"{dado_de_usuario}')"
      ],
      "metadata": {
        "id": "ISgOZWiRkSza",
        "colab": {
          "base_uri": "https://localhost:8080/"
        },
        "outputId": "d6dea44b-762e-4bc4-e0e5-2bb5779d0b38"
      },
      "execution_count": 7,
      "outputs": [
        {
          "output_type": "stream",
          "name": "stdout",
          "text": [
            "Wrightburgh\n",
            "West Jodi\n",
            "Davidton\n",
            "South Manuel\n",
            "Brandonstad\n",
            "Port Jefferybury\n",
            "West Colin\n",
            "Ramirezton\n"
          ]
        }
      ]
    },
    {
      "cell_type": "markdown",
      "source": [
        "3º Exercício: Estrutura condicional try / except\n",
        "\n",
        "Utilize uma estrutura try/except para imprimir as cidades dos usuários que passaram mais de 70 segundos no site.\n",
        "\n",
        "Dica : Realize o tratamento de abordagens dentro da execução da iteração dos elementos da lista:\n",
        "\n",
        "para dado_de_usuario em propaganda_online:\n",
        "\n",
        "tentar:"
      ],
      "metadata": {
        "id": "d4Dw9D_VlWJj"
      }
    },
    {
      "cell_type": "code",
      "source": [
        "for dado_de_usuario in propaganda_online:\n",
        "    try:\n",
        "        if dado_de_usuario['tempo_gasto_site']  >= 70 :\n",
        "          print(dado_de_usuario['cidade'])\n",
        "    except:\n",
        "         ..."
      ],
      "metadata": {
        "id": "YTPu9iNxlXNo",
        "colab": {
          "base_uri": "https://localhost:8080/"
        },
        "outputId": "9ae5c26a-fcb8-4021-c321-5973f01f76f9"
      },
      "execution_count": 8,
      "outputs": [
        {
          "output_type": "stream",
          "name": "stdout",
          "text": [
            "West Jodi\n",
            "Brandonstad\n",
            "West Colin\n"
          ]
        }
      ]
    },
    {
      "cell_type": "markdown",
      "source": [
        "Exercício bônus\n",
        "1.1. Crie uma lista chamada paises com o pais dos usuários com mais de 30 anos.\n",
        "\n",
        "Dica: Para armazenar os países dos usuários na lista paises utilize o método append()."
      ],
      "metadata": {
        "id": "aEo-GLtemBgk"
      }
    },
    {
      "cell_type": "code",
      "source": [
        "paises = []\n",
        "for dado_de_usuario in propaganda_online:\n",
        "  if dado_de_usuario['idade']  >= 30:\n",
        "    paises.append(dado_de_usuario['pais'])\n",
        "\n",
        "  else:\n",
        "    ...\n",
        "\n",
        "print(paises)"
      ],
      "metadata": {
        "id": "7mHg1qX1mK_B",
        "colab": {
          "base_uri": "https://localhost:8080/"
        },
        "outputId": "5fa79a52-f976-4127-e765-3c60a3ea78a0"
      },
      "execution_count": 9,
      "outputs": [
        {
          "output_type": "stream",
          "name": "stdout",
          "text": [
            "['Tunisia', 'Nauru', 'Iceland', 'Myanmar', 'Australia', 'Grenada']\n"
          ]
        }
      ]
    },
    {
      "cell_type": "markdown",
      "source": [
        "1.2. Crie uma lista chamada leads com a renda dos usuários que clicaram na propaganda.\n",
        "\n",
        "Dica: Para armazenar a renda dos usuários na lista leads utilize o método append()."
      ],
      "metadata": {
        "id": "6rz0e6TPmXRB"
      }
    },
    {
      "cell_type": "code",
      "source": [
        "leads = []\n",
        "\n",
        "for dado_de_usuario in propaganda_online:\n",
        "  if dado_de_usuario['clicou_no_ad'] == 1:\n",
        "    leads.append(dado_de_usuario['renda_area'])\n",
        "\n",
        "  else:\n",
        "    ...\n",
        "\n",
        "\n",
        "print(leads)"
      ],
      "metadata": {
        "id": "AjUKSS8qma85",
        "colab": {
          "base_uri": "https://localhost:8080/"
        },
        "outputId": "fc4510ac-24b5-4846-9f45-41358817f596"
      },
      "execution_count": 10,
      "outputs": [
        {
          "output_type": "stream",
          "name": "stdout",
          "text": [
            "[61833.9, 59785.94, 24593.33]\n"
          ]
        }
      ]
    }
  ]
}