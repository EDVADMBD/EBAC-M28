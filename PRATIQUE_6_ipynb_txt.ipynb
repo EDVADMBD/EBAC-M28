{
  "nbformat": 4,
  "nbformat_minor": 0,
  "metadata": {
    "colab": {
      "provenance": []
    },
    "kernelspec": {
      "name": "python3",
      "display_name": "Python 3"
    },
    "language_info": {
      "name": "python"
    }
  },
  "cells": [
    {
      "cell_type": "code",
      "execution_count": null,
      "metadata": {
        "id": "1pakPWHsYIhB"
      },
      "outputs": [],
      "source": []
    },
    {
      "cell_type": "markdown",
      "source": [
        "PRATIQUE - 6\n",
        "\n",
        "Antes de começar\n",
        "\n",
        "Faça login em sua conta do Google. Acesse o Google Colab e faça o download do arquivo notebook “Profissão Analista de dados M6 Material de apoio”.\n",
        "\n",
        "Nesta tarefa, iremos praticar 2 exercícios.\n",
        "\n",
        "Prepare o ambiente\n",
        "\n",
        "Vamos trabalhar com os arquivos de csv e txt definidos no material de apoio. Execute cada uma das células de código para escrever os arquivos em sua máquina virtual."
      ],
      "metadata": {
        "id": "5S_bbEitYLEj"
      }
    },
    {
      "cell_type": "code",
      "source": [
        "%%writefile musica.txt\n",
        "Roda Viva\n",
        "Chico Buarque\n",
        "\n",
        "Tem dias que a gente se sente\n",
        "Como quem partiu ou morreu\n",
        "A gente estancou de repente\n",
        "Ou foi o mundo então que cresceu\n",
        "A gente quer ter voz ativa\n",
        "No nosso destino mandar\n",
        "Mas eis que chega a roda viva\n",
        "E carrega o destino pra lá\n",
        "\n",
        "Roda mundo, roda-gigante\n",
        "Roda moinho, roda pião\n",
        "\n",
        "O tempo rodou num instante\n",
        "Nas voltas do meu coração\n",
        "A gente vai contra a corrente\n",
        "Até não poder resistir\n",
        "Na volta do barco é que sente\n",
        "O quanto deixou de cumprir\n",
        "Faz tempo que a gente cultiva\n",
        "A mais linda roseira que há\n",
        "Mas eis que chega a roda viva\n",
        "E carrega a roseira pra lá\n",
        "\n",
        "Roda mundo, roda-gigante\n",
        "Roda moinho, roda pião"
      ],
      "metadata": {
        "colab": {
          "base_uri": "https://localhost:8080/"
        },
        "id": "xFCZFYXzYVGT",
        "outputId": "a0fd8cbe-64b3-4666-877c-82aec430d7db"
      },
      "execution_count": 1,
      "outputs": [
        {
          "output_type": "stream",
          "name": "stdout",
          "text": [
            "Writing musica.txt\n"
          ]
        }
      ]
    },
    {
      "cell_type": "code",
      "metadata": {
        "id": "daMf-xaXqKs2",
        "colab": {
          "base_uri": "https://localhost:8080/"
        },
        "outputId": "9d47a565-2b2d-4431-c1cb-8109f21f88c4"
      },
      "source": [
        "%%writefile carros.csv\n",
        "id,valor_venda,valor_manutencao,portas,pessoas,porta_malas\n",
        "1,vhigh,med,2,2,small\n",
        "2,med,vhigh,2,2,small\n",
        "3,low,vhigh,2,2,small\n",
        "4,low,high,2,2,small\n",
        "5,low,high,2,2,small\n",
        "6,low,high,4,4,big\n",
        "7,low,high,4,4,big\n",
        "8,low,med,2,2,small\n",
        "9,low,med,2,2,small\n",
        "10,low,med,2,2,small\n",
        "11,low,med,4,4,big\n",
        "12,low,low,2,2,small\n",
        "13,low,low,4,4,small\n",
        "14,low,low,4,4,med"
      ],
      "execution_count": 2,
      "outputs": [
        {
          "output_type": "stream",
          "name": "stdout",
          "text": [
            "Writing carros.csv\n"
          ]
        }
      ]
    },
    {
      "cell_type": "markdown",
      "source": [
        "1º Exercício: Classe para ler arquivos de texto\n",
        "\n",
        "Parte 1:\n",
        "\n",
        "Crie uma classe ArquivoTexto. Ela deve conter os seguintes atributos:\n",
        "self.arquivo: atributo do tipo str com o nome do arquivo;\n",
        "self.conteudo: atributo do tipo list onde cada elemento é uma linha do arquivo;\n",
        "A classe também deve conter o seguinte método:\n",
        "self.extrair_linha: Método que recebe como parâmetro o número da linha e retorna seu conteúdo."
      ],
      "metadata": {
        "id": "MFc3v6K4YyTK"
      }
    },
    {
      "cell_type": "code",
      "source": [
        "class ArquivoTexto(object):\n",
        "\n",
        "  def __init__(self, arquivo: str ):\n",
        "    self.arquivo = arquivo\n",
        "    self.conteudo = self._extrair_conteudo()\n",
        "\n",
        "\n",
        "  def _extrair_conteudo(self):\n",
        "   conteudo= list()\n",
        "\n",
        "   with open(file= self.arquivo , mode='r', encoding='utf8') as arquivo:\n",
        "     conteudo = arquivo.readlines()\n",
        "\n",
        "   return conteudo\n",
        "\n",
        "  def extrair_linha(self, numero_linha: int):\n",
        "    return self.conteudo[numero_linha-1].strip()"
      ],
      "metadata": {
        "id": "pVQ33LmrY0GK"
      },
      "execution_count": 3,
      "outputs": []
    },
    {
      "cell_type": "code",
      "source": [
        "arquivo_texto = ArquivoTexto(arquivo='musica.txt')\n",
        "\n",
        "numero_linha = 1\n",
        "print(arquivo_texto.extrair_linha(numero_linha=numero_linha)) # Roda Viva\n",
        "\n",
        "numero_linha = 10\n",
        "print(arquivo_texto.extrair_linha(numero_linha=numero_linha)) # Mas eis que chega a roda viva"
      ],
      "metadata": {
        "colab": {
          "base_uri": "https://localhost:8080/"
        },
        "id": "7KTo76CmZT1i",
        "outputId": "23951a63-7d64-4f0a-880e-7a86ce1fce87"
      },
      "execution_count": 4,
      "outputs": [
        {
          "output_type": "stream",
          "name": "stdout",
          "text": [
            "Roda Viva\n",
            "Mas eis que chega a roda viva\n"
          ]
        }
      ]
    },
    {
      "cell_type": "markdown",
      "source": [
        "2º Exercício: Classe para ler arquivos de csv\n",
        "\n",
        "Parte 1:\n",
        "\n",
        "Crie uma classe ArquivoCSV. Ela deve estender (herdar) a classe ArquivoTexto para reaproveitar seus atributos (self.arquivo e self.conteudo ) e método ( self.extrair_linha ). Além disso, adicione o seguinte atributo:\n",
        "\n",
        "self.colunas : Atributo do tipo list onde os elementos são o nome das colunas;\n",
        "A classe também deve conter o seguinte método:\n",
        "\n",
        "self.extrair_coluna_da_linha : Método que obtém como parâmetro o número da linha e o índice da coluna e retorna o valor em questão."
      ],
      "metadata": {
        "id": "7pfwefXsblUw"
      }
    },
    {
      "cell_type": "code",
      "source": [
        "\n",
        "\n",
        "class ArquivoCSV(ArquivoTexto):\n",
        "\n",
        "  def __init__(self, arquivo: str):\n",
        "    super().__init__(arquivo=arquivo)\n",
        "    self.colunas = self._extrair_nome_colunas()\n",
        "\n",
        "    #self.colunas = self.extrair_coluna_da_linha(numero_linha)\n",
        "\n",
        "  def _extrair_nome_colunas(self):\n",
        "    return self.conteudo[0].strip().split(sep=\",\")\n",
        "\n",
        "\n",
        "  def extrair_coluna(self,indice_coluna:int):\n",
        "    coluna = list()\n",
        "    for linha in self.conteudo:\n",
        "      conteudo_linha = linha.strip().split(sep=\",\")\n",
        "      coluna.append(conteudo_linha[indice_coluna])\n",
        "    coluna.pop[0]\n",
        "    return coluna\n",
        "\n",
        "  def extrair_coluna_da_linha(self, numero_coluna: int, numero_linha: int):\n",
        "   coluna_escolhida = []\n",
        "   linha = self.extrair_linha(numero_linha=numero_linha).split(sep=\",\")\n",
        "   coluna_escolhida.append(linha[numero_coluna-1])\n",
        "   return coluna_escolhida\n",
        "\n",
        "\n",
        "\n",
        "#def extrai_coluna_csv(nome_arquivo: str, indice_coluna: int):"
      ],
      "metadata": {
        "id": "2WjTX83jbmzL"
      },
      "execution_count": 5,
      "outputs": []
    },
    {
      "cell_type": "markdown",
      "source": [
        "Utilize o código abaixo para testar sua classe."
      ],
      "metadata": {
        "id": "WNHbs2sWdLpI"
      }
    },
    {
      "cell_type": "code",
      "source": [
        "arquivo_csv = ArquivoCSV(arquivo='carros.csv')\n",
        "\n",
        "numero_linha = 1\n",
        "print(arquivo_csv.extrair_linha(numero_linha=numero_linha)) # id,valor_venda,valor_manutencao,portas,pessoas,porta_malas\n",
        "\n",
        "print(arquivo_csv.colunas) # ['id', 'valor_venda', 'valor_manutencao', 'portas', 'pessoas', 'porta_malas']\n",
        "\n",
        "numero_linha = 10\n",
        "print(arquivo_csv.extrair_linha(numero_linha=numero_linha)) # 9,low,med,2,2,small\n",
        "\n",
        "numero_linha = 10\n",
        "numero_coluna = 2\n",
        "print(arquivo_csv.extrair_coluna_da_linha(numero_linha=numero_linha, numero_coluna=numero_coluna)) # low"
      ],
      "metadata": {
        "colab": {
          "base_uri": "https://localhost:8080/"
        },
        "id": "daFIgWGDdNJ3",
        "outputId": "ccb0add9-5282-4bfa-db44-ef9ee56ad7fb"
      },
      "execution_count": 6,
      "outputs": [
        {
          "output_type": "stream",
          "name": "stdout",
          "text": [
            "id,valor_venda,valor_manutencao,portas,pessoas,porta_malas\n",
            "['id', 'valor_venda', 'valor_manutencao', 'portas', 'pessoas', 'porta_malas']\n",
            "9,low,med,2,2,small\n",
            "['low']\n"
          ]
        }
      ]
    }
  ]
}