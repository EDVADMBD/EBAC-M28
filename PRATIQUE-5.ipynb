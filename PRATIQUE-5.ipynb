{
  "nbformat": 4,
  "nbformat_minor": 0,
  "metadata": {
    "colab": {
      "provenance": []
    },
    "kernelspec": {
      "name": "python3",
      "display_name": "Python 3"
    },
    "language_info": {
      "name": "python"
    }
  },
  "cells": [
    {
      "cell_type": "code",
      "execution_count": null,
      "metadata": {
        "id": "0HbB_CzLoR3o"
      },
      "outputs": [],
      "source": []
    },
    {
      "cell_type": "markdown",
      "source": [
        "Antes de começar\n",
        "\n",
        "Faça login em sua conta do Google. Acesse o Google Colab e faça o download do arquivo notebook “Profissão Analista de dados M5 Material de apoio”.\n",
        "\n",
        "Nesta tarefa, iremos praticar 3 exercícios.\n",
        "\n",
        "Prepare o ambiente\n",
        "\n",
        "Vamos trabalhar com o arquivo csv com dados de crédito disponível no material de apoio. Execute cada uma das células de código para escrever os arquivos em sua máquina virtual.\n",
        "Leia o conteúdo do arquivo em uma lista onde cada elemento é um dicionário representando as linhas do arquivo.\n",
        "1º Exercício: Mapa de funções\n",
        "\n",
        "Aplique a função map na lista de empréstimos para extrair os valores da chave\n",
        "\n",
        "valor_emprestimos na lista valor_emprestimos_lista. Faça também a conversão de str para float"
      ],
      "metadata": {
        "id": "lasFuJDpqBw7"
      }
    },
    {
      "cell_type": "code",
      "source": [
        "%%writefile credito.csv\n",
        "id_vendedor,valor_emprestimos,quantidade_emprestimos,data\n",
        "104271,448.0,1,20161208\n",
        "21476,826.7,3,20161208\n",
        "87440,313.6,3,20161208\n",
        "15980,-8008.0,6,20161208\n",
        "215906,2212.0,5,20161208\n",
        "33696,2771.3,2,20161208\n",
        "33893,2240.0,3,20161208\n",
        "214946,-4151.0,18,20161208\n",
        "123974,2021.95,2,20161208\n",
        "225870,4039.0,2,20161208"
      ],
      "metadata": {
        "colab": {
          "base_uri": "https://localhost:8080/"
        },
        "id": "Zma_efaPqDk9",
        "outputId": "269aa835-8b7b-40eb-e04c-deeeffdfaecd"
      },
      "execution_count": 1,
      "outputs": [
        {
          "output_type": "stream",
          "name": "stdout",
          "text": [
            "Writing credito.csv\n"
          ]
        }
      ]
    },
    {
      "cell_type": "code",
      "source": [
        "#numeros = [3,9,4]\n",
        "#numeros_ao_cubo = map(lambda num: num ** 2, numeros)\n",
        "#print(list(numeros_ao_cubo))\n",
        "\n",
        "# Define the variable 'emprestimos'\n",
        "emprestimos = [{'valor_emprestimos': 448.0}, {'valor_emprestimos': 826.7}, {'valor_emprestimos': 4039.0}]\n",
        "\n",
        "valor_emprestimos_lista = list(map(lambda emprestimo: float(emprestimo['valor_emprestimos']), emprestimos))\n",
        "\n",
        "print(type(valor_emprestimos_lista[0]))\n",
        "\n",
        "print(valor_emprestimos_lista)  # [448.0, 826.7, ..., 4039.0]"
      ],
      "metadata": {
        "colab": {
          "base_uri": "https://localhost:8080/"
        },
        "id": "Ao_UUdlB3XGA",
        "outputId": "52877867-c492-4b88-cbd6-5f49879b7c1b"
      },
      "execution_count": 6,
      "outputs": [
        {
          "output_type": "stream",
          "name": "stdout",
          "text": [
            "<class 'float'>\n",
            "[448.0, 826.7, 4039.0]\n"
          ]
        }
      ]
    },
    {
      "cell_type": "markdown",
      "source": [
        "2º Exercício: Função filtro\n",
        "\n",
        "Aplique a função filter na lista de valores_emprestimos_lista para filtrar apenas os valores maiores que zero (os valores negativos são erros na base de dados). Salve os valores na lista valor_emprestimos_lista_filtrada."
      ],
      "metadata": {
        "id": "2n2zRpzr5Obp"
      }
    },
    {
      "cell_type": "code",
      "source": [
        "#valor_emprestimos_lista_filtrada = list(map(lambda emprestimo: float(emprestimo['valor_emprestimos']),emprestimos ))\n",
        "\n",
        "valor_emprestimos_lista_filtrada = list(filter(lambda valor_emprestimos_lista : valor_emprestimos_lista >= 0, valor_emprestimos_lista ))\n",
        "#print(list(valor_emprestimos_lista_filtrada))# [448.0, 826.7, ..., 4039.0]\n",
        "\n",
        "print(valor_emprestimos_lista_filtrada)# [448.0, 826.7, ..., 4039.0]"
      ],
      "metadata": {
        "colab": {
          "base_uri": "https://localhost:8080/"
        },
        "id": "I87V9z3k5P5Q",
        "outputId": "52c97821-a777-4f37-8ec7-79fda7859ee9"
      },
      "execution_count": 7,
      "outputs": [
        {
          "output_type": "stream",
          "name": "stdout",
          "text": [
            "[448.0, 826.7, 4039.0]\n"
          ]
        }
      ]
    },
    {
      "cell_type": "markdown",
      "source": [
        "3º Exercício: Função reduzir\n",
        "\n",
        "Com a nossa lista de valores de empréstimo pronto, extraia algumas informações:\n",
        "\n",
        "1ª Parte: Função reduzir para extrair a soma\n",
        "\n",
        "Aplique a função reduz para somar os elementos da lista valor_emprestimos_lista_filtrada na variável soma_valor_emprestimos.\n",
        "\n",
        "2ª Parte: Função reduzir para extrair a mídia aritmética\n",
        "\n",
        "Aplique a função reduzir para extrair a mídia aritmética dos elementos da lista valor_emprestimos_lista_filtrada na variável media_valor_emprestimos.\n",
        "\n",
        "Dica : Para calcular o tamanho da lista, isto é a quantidade de elementos, utilize a função len(), dentro do argumento da função coloque a lista valor_emprestimos_lista_filtrada."
      ],
      "metadata": {
        "id": "b9PuAfmJ6rhy"
      }
    },
    {
      "cell_type": "code",
      "source": [
        "from functools import reduce\n",
        "\n",
        "nova_lista = [448.0, 826.7, 313.6, 2212.0, 2771.3, 2240.0, 2021.95, 4039.0]\n",
        "print(nova_lista)\n",
        "\n",
        "\n",
        "#valor_emprestimos_lista_filtrada = [1,2,3]\n",
        "soma_valor_emprestimos = reduce(lambda  x, y : x + y ,valor_emprestimos_lista_filtrada)"
      ],
      "metadata": {
        "colab": {
          "base_uri": "https://localhost:8080/"
        },
        "id": "5f_0XRO96wzp",
        "outputId": "db89f9d7-3dad-4540-c7c4-c1c0c59d4c63"
      },
      "execution_count": 8,
      "outputs": [
        {
          "output_type": "stream",
          "name": "stdout",
          "text": [
            "[448.0, 826.7, 313.6, 2212.0, 2771.3, 2240.0, 2021.95, 4039.0]\n"
          ]
        }
      ]
    },
    {
      "cell_type": "code",
      "source": [
        "print(soma_valor_emprestimos) # 14872.550000000001"
      ],
      "metadata": {
        "colab": {
          "base_uri": "https://localhost:8080/"
        },
        "id": "2_14zJOo7B9a",
        "outputId": "0abdcb4d-a24c-4fa5-9ab7-000611ed6284"
      },
      "execution_count": 9,
      "outputs": [
        {
          "output_type": "stream",
          "name": "stdout",
          "text": [
            "5313.7\n"
          ]
        }
      ]
    },
    {
      "cell_type": "code",
      "source": [
        "from functools import reduce\n",
        "\n",
        "media_valor_emprestimos = reduce(lambda  x, y: x + y,valor_emprestimos_lista_filtrada )/len(valor_emprestimos_lista_filtrada)\n",
        "\n",
        "print(len(nova_lista))"
      ],
      "metadata": {
        "colab": {
          "base_uri": "https://localhost:8080/"
        },
        "id": "se6ONwme7ZJi",
        "outputId": "4d607628-97da-4622-bba9-7ad4188de7d0"
      },
      "execution_count": 10,
      "outputs": [
        {
          "output_type": "stream",
          "name": "stdout",
          "text": [
            "8\n"
          ]
        }
      ]
    },
    {
      "cell_type": "code",
      "source": [
        "print(valor_emprestimos_lista_filtrada)\n",
        "\n",
        "print(media_valor_emprestimos) # 1859.0687500000001"
      ],
      "metadata": {
        "colab": {
          "base_uri": "https://localhost:8080/"
        },
        "id": "K02cY2Er7b1J",
        "outputId": "7ccc1bc2-d7ef-4533-af2c-c80438cf5b88"
      },
      "execution_count": 11,
      "outputs": [
        {
          "output_type": "stream",
          "name": "stdout",
          "text": [
            "[448.0, 826.7, 4039.0]\n",
            "1771.2333333333333\n"
          ]
        }
      ]
    },
    {
      "cell_type": "markdown",
      "source": [
        "3ª Parte: Função reduzir para extrair o desvio padrão amostral\n",
        "\n",
        "Aplique a função reduzir para extrair a mídia aritmética dos elementos da lista valor_emprestimos_lista_filtrada em desvio_padrao_valor_emprestimos variável."
      ],
      "metadata": {
        "id": "DZtmJq-m7zrC"
      }
    },
    {
      "cell_type": "code",
      "source": [
        "from functools import reduce\n",
        "import math\n",
        "\n",
        "#nova_lista = [448.0, 826.7, 313.6, 2212.0, 2771.3, 2240.0, 2021.95, 4039.0]\n",
        "\n",
        "soma_quadrada = reduce(lambda x, y: x + (y - media_valor_emprestimos)**2, valor_emprestimos_lista_filtrada, 0)\n",
        "\n",
        "print(f'soma_quadrada é {soma_quadrada:.2f} !')\n",
        "\n",
        "variancia = soma_quadrada / (len(nova_lista) - 1)\n",
        "\n",
        "print(f'{variancia:.2f}')\n",
        "desvio_padrao_valor_emprestimos = math.sqrt(variancia)"
      ],
      "metadata": {
        "colab": {
          "base_uri": "https://localhost:8080/"
        },
        "id": "Y5XQl7Zl9Bwb",
        "outputId": "e1bba604-87c6-40d2-ab77-4905876d8981"
      },
      "execution_count": 12,
      "outputs": [
        {
          "output_type": "stream",
          "name": "stdout",
          "text": [
            "soma_quadrada é 7785855.33 !\n",
            "1112265.05\n"
          ]
        }
      ]
    },
    {
      "cell_type": "code",
      "source": [
        "print(desvio_padrao_valor_emprestimos) # 1271.997271149785"
      ],
      "metadata": {
        "colab": {
          "base_uri": "https://localhost:8080/"
        },
        "id": "w4bi9w6t9aLk",
        "outputId": "911e950b-187c-4e3e-a848-d278acf223fb"
      },
      "execution_count": 13,
      "outputs": [
        {
          "output_type": "stream",
          "name": "stdout",
          "text": [
            "1054.6397710434906\n"
          ]
        }
      ]
    }
  ]
}